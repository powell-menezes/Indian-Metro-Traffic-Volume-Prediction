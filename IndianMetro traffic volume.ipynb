{
 "cells": [
  {
   "cell_type": "code",
   "execution_count": 1,
   "metadata": {
    "colab": {},
    "colab_type": "code",
    "id": "B6Nth8_ahglK"
   },
   "outputs": [],
   "source": [
    "import numpy as np\n",
    "import pandas as pd\n",
    "import matplotlib.pyplot as plt\n",
    "import seaborn as sns\n",
    "from sklearn.model_selection import train_test_split, cross_val_score\n",
    "import warnings\n",
    "warnings.filterwarnings(\"ignore\")\n"
   ]
  },
  {
   "cell_type": "code",
   "execution_count": 2,
   "metadata": {
    "colab": {},
    "colab_type": "code",
    "id": "i0CS75A-iI65"
   },
   "outputs": [],
   "source": [
    "train=pd.read_csv('https://raw.githubusercontent.com/powell-menezes/Indian-Metro-Traffic-Volume-Prediction/master/Train.csv')\n",
    "test=pd.read_csv('https://raw.githubusercontent.com/powell-menezes/Indian-Metro-Traffic-Volume-Prediction/master/Test.csv')"
   ]
  },
  {
   "cell_type": "code",
   "execution_count": 3,
   "metadata": {
    "colab": {
     "base_uri": "https://localhost:8080/",
     "height": 301
    },
    "colab_type": "code",
    "executionInfo": {
     "elapsed": 18945,
     "status": "ok",
     "timestamp": 1567406250893,
     "user": {
      "displayName": "Powell Menezes",
      "photoUrl": "",
      "userId": "10764350384145038858"
     },
     "user_tz": -330
    },
    "id": "tN_gV8wgjOx2",
    "outputId": "2fcb3bbd-10b4-4710-8270-dc8fb8b0139f"
   },
   "outputs": [
    {
     "data": {
      "text/plain": [
       "date_time              False\n",
       "is_holiday             False\n",
       "air_pollution_index    False\n",
       "humidity               False\n",
       "wind_speed             False\n",
       "wind_direction         False\n",
       "visibility_in_miles    False\n",
       "dew_point              False\n",
       "temperature            False\n",
       "rain_p_h               False\n",
       "snow_p_h               False\n",
       "clouds_all             False\n",
       "weather_type           False\n",
       "weather_description    False\n",
       "traffic_volume         False\n",
       "dtype: bool"
      ]
     },
     "execution_count": 3,
     "metadata": {},
     "output_type": "execute_result"
    }
   ],
   "source": [
    "train.isnull().any()"
   ]
  },
  {
   "cell_type": "code",
   "execution_count": 5,
   "metadata": {
    "colab": {
     "base_uri": "https://localhost:8080/",
     "height": 372
    },
    "colab_type": "code",
    "executionInfo": {
     "elapsed": 18569,
     "status": "ok",
     "timestamp": 1567406250899,
     "user": {
      "displayName": "Powell Menezes",
      "photoUrl": "",
      "userId": "10764350384145038858"
     },
     "user_tz": -330
    },
    "id": "-_YDCimWkDJk",
    "outputId": "99949be2-b985-4aba-bb47-519ae49b9cbf"
   },
   "outputs": [
    {
     "name": "stdout",
     "output_type": "stream",
     "text": [
      "<class 'pandas.core.frame.DataFrame'>\n",
      "RangeIndex: 33750 entries, 0 to 33749\n",
      "Data columns (total 15 columns):\n",
      "date_time              33750 non-null object\n",
      "is_holiday             33750 non-null object\n",
      "air_pollution_index    33750 non-null int64\n",
      "humidity               33750 non-null int64\n",
      "wind_speed             33750 non-null int64\n",
      "wind_direction         33750 non-null int64\n",
      "visibility_in_miles    33750 non-null int64\n",
      "dew_point              33750 non-null int64\n",
      "temperature            33750 non-null float64\n",
      "rain_p_h               33750 non-null float64\n",
      "snow_p_h               33750 non-null float64\n",
      "clouds_all             33750 non-null int64\n",
      "weather_type           33750 non-null object\n",
      "weather_description    33750 non-null object\n",
      "traffic_volume         33750 non-null int64\n",
      "dtypes: float64(3), int64(8), object(4)\n",
      "memory usage: 3.9+ MB\n"
     ]
    }
   ],
   "source": [
    "train.info()"
   ]
  },
  {
   "cell_type": "code",
   "execution_count": 0,
   "metadata": {
    "colab": {},
    "colab_type": "code",
    "id": "X8mhT9bkkOnb"
   },
   "outputs": [],
   "source": [
    "train.date_time = pd.to_datetime(train.date_time)"
   ]
  },
  {
   "cell_type": "code",
   "execution_count": 7,
   "metadata": {
    "colab": {
     "base_uri": "https://localhost:8080/",
     "height": 384
    },
    "colab_type": "code",
    "executionInfo": {
     "elapsed": 17602,
     "status": "ok",
     "timestamp": 1567406250902,
     "user": {
      "displayName": "Powell Menezes",
      "photoUrl": "",
      "userId": "10764350384145038858"
     },
     "user_tz": -330
    },
    "id": "I8S7wkZQkTXH",
    "outputId": "db4fbc68-3da2-40de-910a-37491db13ce1"
   },
   "outputs": [
    {
     "data": {
      "text/html": [
       "<div>\n",
       "<style scoped>\n",
       "    .dataframe tbody tr th:only-of-type {\n",
       "        vertical-align: middle;\n",
       "    }\n",
       "\n",
       "    .dataframe tbody tr th {\n",
       "        vertical-align: top;\n",
       "    }\n",
       "\n",
       "    .dataframe thead th {\n",
       "        text-align: right;\n",
       "    }\n",
       "</style>\n",
       "<table border=\"1\" class=\"dataframe\">\n",
       "  <thead>\n",
       "    <tr style=\"text-align: right;\">\n",
       "      <th></th>\n",
       "      <th>date_time</th>\n",
       "      <th>is_holiday</th>\n",
       "      <th>air_pollution_index</th>\n",
       "      <th>humidity</th>\n",
       "      <th>wind_speed</th>\n",
       "      <th>wind_direction</th>\n",
       "      <th>visibility_in_miles</th>\n",
       "      <th>dew_point</th>\n",
       "      <th>temperature</th>\n",
       "      <th>rain_p_h</th>\n",
       "      <th>snow_p_h</th>\n",
       "      <th>clouds_all</th>\n",
       "      <th>weather_type</th>\n",
       "      <th>weather_description</th>\n",
       "      <th>traffic_volume</th>\n",
       "      <th>year</th>\n",
       "      <th>month</th>\n",
       "      <th>day</th>\n",
       "      <th>dayofweek</th>\n",
       "      <th>hour</th>\n",
       "    </tr>\n",
       "  </thead>\n",
       "  <tbody>\n",
       "    <tr>\n",
       "      <th>0</th>\n",
       "      <td>2012-10-02 09:00:00</td>\n",
       "      <td>None</td>\n",
       "      <td>121</td>\n",
       "      <td>89</td>\n",
       "      <td>2</td>\n",
       "      <td>329</td>\n",
       "      <td>1</td>\n",
       "      <td>1</td>\n",
       "      <td>288.28</td>\n",
       "      <td>0.0</td>\n",
       "      <td>0.0</td>\n",
       "      <td>40</td>\n",
       "      <td>Clouds</td>\n",
       "      <td>scattered clouds</td>\n",
       "      <td>5545</td>\n",
       "      <td>2012</td>\n",
       "      <td>10</td>\n",
       "      <td>2</td>\n",
       "      <td>tuesday</td>\n",
       "      <td>9</td>\n",
       "    </tr>\n",
       "    <tr>\n",
       "      <th>1</th>\n",
       "      <td>2012-10-02 10:00:00</td>\n",
       "      <td>None</td>\n",
       "      <td>178</td>\n",
       "      <td>67</td>\n",
       "      <td>3</td>\n",
       "      <td>330</td>\n",
       "      <td>1</td>\n",
       "      <td>1</td>\n",
       "      <td>289.36</td>\n",
       "      <td>0.0</td>\n",
       "      <td>0.0</td>\n",
       "      <td>75</td>\n",
       "      <td>Clouds</td>\n",
       "      <td>broken clouds</td>\n",
       "      <td>4516</td>\n",
       "      <td>2012</td>\n",
       "      <td>10</td>\n",
       "      <td>2</td>\n",
       "      <td>tuesday</td>\n",
       "      <td>10</td>\n",
       "    </tr>\n",
       "    <tr>\n",
       "      <th>2</th>\n",
       "      <td>2012-10-02 11:00:00</td>\n",
       "      <td>None</td>\n",
       "      <td>113</td>\n",
       "      <td>66</td>\n",
       "      <td>3</td>\n",
       "      <td>329</td>\n",
       "      <td>2</td>\n",
       "      <td>2</td>\n",
       "      <td>289.58</td>\n",
       "      <td>0.0</td>\n",
       "      <td>0.0</td>\n",
       "      <td>90</td>\n",
       "      <td>Clouds</td>\n",
       "      <td>overcast clouds</td>\n",
       "      <td>4767</td>\n",
       "      <td>2012</td>\n",
       "      <td>10</td>\n",
       "      <td>2</td>\n",
       "      <td>tuesday</td>\n",
       "      <td>11</td>\n",
       "    </tr>\n",
       "    <tr>\n",
       "      <th>3</th>\n",
       "      <td>2012-10-02 12:00:00</td>\n",
       "      <td>None</td>\n",
       "      <td>20</td>\n",
       "      <td>66</td>\n",
       "      <td>3</td>\n",
       "      <td>329</td>\n",
       "      <td>5</td>\n",
       "      <td>5</td>\n",
       "      <td>290.13</td>\n",
       "      <td>0.0</td>\n",
       "      <td>0.0</td>\n",
       "      <td>90</td>\n",
       "      <td>Clouds</td>\n",
       "      <td>overcast clouds</td>\n",
       "      <td>5026</td>\n",
       "      <td>2012</td>\n",
       "      <td>10</td>\n",
       "      <td>2</td>\n",
       "      <td>tuesday</td>\n",
       "      <td>12</td>\n",
       "    </tr>\n",
       "    <tr>\n",
       "      <th>4</th>\n",
       "      <td>2012-10-02 13:00:00</td>\n",
       "      <td>None</td>\n",
       "      <td>281</td>\n",
       "      <td>65</td>\n",
       "      <td>3</td>\n",
       "      <td>329</td>\n",
       "      <td>7</td>\n",
       "      <td>7</td>\n",
       "      <td>291.14</td>\n",
       "      <td>0.0</td>\n",
       "      <td>0.0</td>\n",
       "      <td>75</td>\n",
       "      <td>Clouds</td>\n",
       "      <td>broken clouds</td>\n",
       "      <td>4918</td>\n",
       "      <td>2012</td>\n",
       "      <td>10</td>\n",
       "      <td>2</td>\n",
       "      <td>tuesday</td>\n",
       "      <td>13</td>\n",
       "    </tr>\n",
       "  </tbody>\n",
       "</table>\n",
       "</div>"
      ],
      "text/plain": [
       "            date_time is_holiday  air_pollution_index  ...  day  dayofweek  hour\n",
       "0 2012-10-02 09:00:00       None                  121  ...    2    tuesday     9\n",
       "1 2012-10-02 10:00:00       None                  178  ...    2    tuesday    10\n",
       "2 2012-10-02 11:00:00       None                  113  ...    2    tuesday    11\n",
       "3 2012-10-02 12:00:00       None                   20  ...    2    tuesday    12\n",
       "4 2012-10-02 13:00:00       None                  281  ...    2    tuesday    13\n",
       "\n",
       "[5 rows x 20 columns]"
      ]
     },
     "execution_count": 7,
     "metadata": {
      "tags": []
     },
     "output_type": "execute_result"
    }
   ],
   "source": [
    "train['year'] = train['date_time'].dt.year\n",
    "train['month'] = train['date_time'].dt.month\n",
    "train['day'] = train['date_time'].dt.day\n",
    "train['dayofweek'] = train['date_time'].dt.dayofweek.replace([0,1,2,3,4,5,6],['monday','tuesday','wednesday','thursday','friday','saturday','sunday'])\n",
    "train['hour'] = train['date_time'].dt.hour\n",
    "train.head()"
   ]
  },
  {
   "cell_type": "code",
   "execution_count": 8,
   "metadata": {
    "colab": {
     "base_uri": "https://localhost:8080/",
     "height": 463
    },
    "colab_type": "code",
    "executionInfo": {
     "elapsed": 21072,
     "status": "ok",
     "timestamp": 1567406255164,
     "user": {
      "displayName": "Powell Menezes",
      "photoUrl": "",
      "userId": "10764350384145038858"
     },
     "user_tz": -330
    },
    "id": "-2lAApYbkf-Z",
    "outputId": "e9058676-5515-49a0-96e0-9b1fd0475a9c"
   },
   "outputs": [
    {
     "data": {
      "text/plain": [
       "<matplotlib.axes._subplots.AxesSubplot at 0x7fa09cd3dba8>"
      ]
     },
     "execution_count": 8,
     "metadata": {
      "tags": []
     },
     "output_type": "execute_result"
    },
    {
     "data": {
      "image/png": "[encoded data removed]",
      "text/plain": [
       "<Figure size 720x504 with 1 Axes>"
      ]
     },
     "metadata": {
      "tags": []
     },
     "output_type": "display_data"
    }
   ],
   "source": [
    "#taffic volume difference by the day of week.\n",
    "\n",
    "plt.figure(figsize=(10,7))\n",
    "sns.lineplot(x=train['hour'],y=train['traffic_volume'],hue=train['dayofweek'])"
   ]
  },
  {
   "cell_type": "code",
   "execution_count": 9,
   "metadata": {
    "colab": {
     "base_uri": "https://localhost:8080/",
     "height": 416
    },
    "colab_type": "code",
    "executionInfo": {
     "elapsed": 20217,
     "status": "ok",
     "timestamp": 1567406255169,
     "user": {
      "displayName": "Powell Menezes",
      "photoUrl": "",
      "userId": "10764350384145038858"
     },
     "user_tz": -330
    },
    "id": "BfxKs1wekpSi",
    "outputId": "1ea9abec-a199-4bd4-d8b9-255d0655efbb"
   },
   "outputs": [
    {
     "data": {
      "text/plain": [
       "<matplotlib.axes._subplots.AxesSubplot at 0x7fa09cf43080>"
      ]
     },
     "execution_count": 9,
     "metadata": {
      "tags": []
     },
     "output_type": "execute_result"
    },
    {
     "data": {
      "image/png": "[encoded data removed]",
      "text/plain": [
       "<Figure size 432x288 with 1 Axes>"
      ]
     },
     "metadata": {
      "tags": []
     },
     "output_type": "display_data"
    }
   ],
   "source": [
    "train.groupby('is_holiday').agg(len)['date_time'].plot.bar()"
   ]
  },
  {
   "cell_type": "code",
   "execution_count": 0,
   "metadata": {
    "colab": {},
    "colab_type": "code",
    "id": "oY9dk8MSlOmN"
   },
   "outputs": [],
   "source": [
    "X=train.drop(['date_time','is_holiday','weather_description','year','month','day','traffic_volume','dew_point'],axis=1)\n",
    "y=train['traffic_volume']\n",
    "X=pd.get_dummies(X)"
   ]
  },
  {
   "cell_type": "code",
   "execution_count": 0,
   "metadata": {
    "colab": {},
    "colab_type": "code",
    "id": "I4V96ACNlgEs"
   },
   "outputs": [],
   "source": [
    "X_train, X_valid, y_train, y_valid = train_test_split(X,y,test_size=0.3,random_state=1)"
   ]
  },
  {
   "cell_type": "code",
   "execution_count": 12,
   "metadata": {
    "colab": {
     "base_uri": "https://localhost:8080/",
     "height": 52
    },
    "colab_type": "code",
    "executionInfo": {
     "elapsed": 16219,
     "status": "ok",
     "timestamp": 1567406255174,
     "user": {
      "displayName": "Powell Menezes",
      "photoUrl": "",
      "userId": "10764350384145038858"
     },
     "user_tz": -330
    },
    "id": "ecxjF4UClnu5",
    "outputId": "4d04f98a-5aab-432b-e252-e4bf10d58c8e"
   },
   "outputs": [
    {
     "name": "stdout",
     "output_type": "stream",
     "text": [
      "Cross Validation Score:  1592.7685760968595\n"
     ]
    },
    {
     "data": {
      "text/plain": [
       "-3.328656170027079"
      ]
     },
     "execution_count": 12,
     "metadata": {
      "tags": []
     },
     "output_type": "execute_result"
    }
   ],
   "source": [
    "from sklearn.linear_model import LinearRegression, Lasso, Ridge\n",
    "from sklearn.metrics import mean_absolute_error\n",
    "\n",
    "linreg = LinearRegression()\n",
    "linreg.fit(X_train,y_train)\n",
    "print('Cross Validation Score: ',-1*cross_val_score(linreg,X_train,y_train,cv=5,scoring='neg_mean_absolute_error').mean())\n",
    "from sklearn.metrics import r2_score, confusion_matrix\n",
    "pred = linreg.predict(X_valid)\n",
    "r2_score(pred,y_valid) "
   ]
  },
  {
   "cell_type": "code",
   "execution_count": 13,
   "metadata": {
    "colab": {
     "base_uri": "https://localhost:8080/",
     "height": 52
    },
    "colab_type": "code",
    "executionInfo": {
     "elapsed": 15626,
     "status": "ok",
     "timestamp": 1567406255175,
     "user": {
      "displayName": "Powell Menezes",
      "photoUrl": "",
      "userId": "10764350384145038858"
     },
     "user_tz": -330
    },
    "id": "6W4OHt-ql7P5",
    "outputId": "f29edbc0-a905-4e9c-9bf9-315d3145a3f5"
   },
   "outputs": [
    {
     "name": "stdout",
     "output_type": "stream",
     "text": [
      "Cross Validation Score:  1592.7666545096772\n"
     ]
    },
    {
     "data": {
      "text/plain": [
       "-3.331317413186964"
      ]
     },
     "execution_count": 13,
     "metadata": {
      "tags": []
     },
     "output_type": "execute_result"
    }
   ],
   "source": [
    "ridreg = Ridge()\n",
    "ridreg.fit(X_train,y_train)\n",
    "print('Cross Validation Score: ',-1*cross_val_score(ridreg,X_train,y_train,cv=5,scoring='neg_mean_absolute_error').mean())\n",
    "pred = ridreg.predict(X_valid)\n",
    "r2_score(pred,y_valid) "
   ]
  },
  {
   "cell_type": "code",
   "execution_count": 14,
   "metadata": {
    "colab": {
     "base_uri": "https://localhost:8080/",
     "height": 34
    },
    "colab_type": "code",
    "executionInfo": {
     "elapsed": 14984,
     "status": "ok",
     "timestamp": 1567406255524,
     "user": {
      "displayName": "Powell Menezes",
      "photoUrl": "",
      "userId": "10764350384145038858"
     },
     "user_tz": -330
    },
    "id": "_r-rSYrYmC0r",
    "outputId": "86c01aa3-ed27-4b3c-a4e3-efd9b4ace408"
   },
   "outputs": [
    {
     "name": "stdout",
     "output_type": "stream",
     "text": [
      "Cross Validation Score:  1593.6054697001543\n"
     ]
    }
   ],
   "source": [
    "lasreg = Lasso()\n",
    "lasreg.fit(X_train,y_train)\n",
    "print('Cross Validation Score: ',-1*cross_val_score(lasreg,X_train,y_train,cv=5,scoring='neg_mean_absolute_error').mean())"
   ]
  },
  {
   "cell_type": "code",
   "execution_count": 15,
   "metadata": {
    "colab": {
     "base_uri": "https://localhost:8080/",
     "height": 52
    },
    "colab_type": "code",
    "executionInfo": {
     "elapsed": 23010,
     "status": "ok",
     "timestamp": 1567406265544,
     "user": {
      "displayName": "Powell Menezes",
      "photoUrl": "",
      "userId": "10764350384145038858"
     },
     "user_tz": -330
    },
    "id": "GOd0vQXVmcwO",
    "outputId": "f94e3134-31b2-4605-9761-fc2fceea4b46"
   },
   "outputs": [
    {
     "name": "stdout",
     "output_type": "stream",
     "text": [
      "Cross Validation Score:  381.5028201841021\n"
     ]
    },
    {
     "data": {
      "text/plain": [
       "0.897155634215296"
      ]
     },
     "execution_count": 15,
     "metadata": {
      "tags": []
     },
     "output_type": "execute_result"
    }
   ],
   "source": [
    "from xgboost import XGBRegressor\n",
    "warnings.simplefilter(\"ignore\",UserWarning)\n",
    "xgb = XGBRegressor(objective='reg:squarederror')\n",
    "xgb.fit(X_train,y_train)\n",
    "print('Cross Validation Score: ',-1*cross_val_score(xgb,X_train,y_train,cv=5,scoring='neg_mean_absolute_error').mean())\n",
    "pred = xgb.predict(X_valid)\n",
    "r2_score(pred,y_valid) "
   ]
  },
  {
   "cell_type": "code",
   "execution_count": 0,
   "metadata": {
    "colab": {},
    "colab_type": "code",
    "id": "dGcuQqZ2nAcn"
   },
   "outputs": [],
   "source": []
  },
  {
   "cell_type": "code",
   "execution_count": 16,
   "metadata": {
    "colab": {
     "base_uri": "https://localhost:8080/",
     "height": 52
    },
    "colab_type": "code",
    "executionInfo": {
     "elapsed": 24533,
     "status": "ok",
     "timestamp": 1567406273816,
     "user": {
      "displayName": "Powell Menezes",
      "photoUrl": "",
      "userId": "10764350384145038858"
     },
     "user_tz": -330
    },
    "id": "WF1nIQm5mzmH",
    "outputId": "8faa96a6-b8fc-43d8-d59f-bae9474f9c60"
   },
   "outputs": [
    {
     "name": "stdout",
     "output_type": "stream",
     "text": [
      "Cross Validation Score:  303.0856\n"
     ]
    },
    {
     "data": {
      "text/plain": [
       "0.9271484902406111"
      ]
     },
     "execution_count": 16,
     "metadata": {
      "tags": []
     },
     "output_type": "execute_result"
    }
   ],
   "source": [
    "from sklearn.ensemble import RandomForestRegressor\n",
    "\n",
    "rf = RandomForestRegressor()\n",
    "rf.fit(X_train,y_train)\n",
    "print('Cross Validation Score: ',-1*cross_val_score(rf,X_train,y_train,cv=5,scoring='neg_mean_absolute_error').mean())\n",
    "pred = rf.predict(X_valid)\n",
    "r2_score(pred,y_valid) "
   ]
  },
  {
   "cell_type": "code",
   "execution_count": 0,
   "metadata": {
    "colab": {},
    "colab_type": "code",
    "id": "ikAU5rGpsayN"
   },
   "outputs": [],
   "source": []
  },
  {
   "cell_type": "markdown",
   "metadata": {
    "colab_type": "text",
    "id": "rK08EgN8sdGm"
   },
   "source": [
    "import numpy as np\n",
    "\n",
    "from sklearn.model_selection import RandomizedSearchCV\n",
    "\n",
    "from sklearn.model_selection import GridSearchCV\n",
    "\n",
    "n_estimators = np.arange(100, 800, 200)\n",
    "\n",
    "\n",
    "max_features = ['auto', 'sqrt']\n",
    "\n",
    "max_depth = np.arange(30, 100, 10)\n",
    "\n",
    "random_grid = {'n_estimators': n_estimators,\n",
    "\n",
    "'max_features': max_features,\n",
    "\n",
    "'max_depth': max_depth,\n",
    "\n",
    "}\n",
    "\n",
    "rf = RandomForestRegressor()\n",
    "\n",
    "rfg = GridSearchCV(estimator = rf, param_grid=random_grid, cv = 5,  n_jobs = -1)\n",
    "\n",
    "rfg.fit(X_train,y_train)\n",
    "\n",
    "\n"
   ]
  },
  {
   "cell_type": "markdown",
   "metadata": {
    "colab_type": "text",
    "id": "_w0e-fnuspWC"
   },
   "source": [
    "hasil=[]\n",
    "\n",
    "j=[]\n",
    "\n",
    "for i in range(10,310,10):\n",
    "    \n",
    "    rf = RandomForestRegressor(n_estimators=i)\n",
    "    \n",
    "    rf.fit(X_train,y_train)\n",
    "    \n",
    "    pred = rf.predict(X_valid)\n",
    "    \n",
    "    hasil.append(mean_absolute_error(pred,y_valid))\n",
    "    \n",
    "    \n",
    "   j.append(i)\n",
    "\n",
    "score = pd.DataFrame({'Mean Absolute Error':hasil},index=j)\n",
    "\n",
    "score.plot.line()"
   ]
  },
  {
   "cell_type": "code",
   "execution_count": 0,
   "metadata": {
    "colab": {},
    "colab_type": "code",
    "id": "e1_ifcvj53fl"
   },
   "outputs": [],
   "source": [
    "\n"
   ]
  },
  {
   "cell_type": "code",
   "execution_count": 0,
   "metadata": {
    "colab": {},
    "colab_type": "code",
    "id": "oPAmMJouvKQe"
   },
   "outputs": [],
   "source": [
    "#rfg.best_estimator_"
   ]
  },
  {
   "cell_type": "code",
   "execution_count": 19,
   "metadata": {
    "colab": {
     "base_uri": "https://localhost:8080/",
     "height": 34
    },
    "colab_type": "code",
    "executionInfo": {
     "elapsed": 33923,
     "status": "ok",
     "timestamp": 1567406400553,
     "user": {
      "displayName": "Powell Menezes",
      "photoUrl": "",
      "userId": "10764350384145038858"
     },
     "user_tz": -330
    },
    "id": "YAzyERednC0G",
    "outputId": "55023af9-4cde-4b39-bbd0-2615d72f4a04"
   },
   "outputs": [
    {
     "name": "stdout",
     "output_type": "stream",
     "text": [
      "MAE:  287.0230857423225\n"
     ]
    }
   ],
   "source": [
    "rf = RandomForestRegressor( max_depth=35,\n",
    "                      max_features='auto', n_estimators=190,\n",
    "                       random_state=None)\n",
    "rf.fit(X_train,y_train)\n",
    "pred = rf.predict(X_valid)\n",
    "print('MAE: ',mean_absolute_error(pred,y_valid))"
   ]
  },
  {
   "cell_type": "code",
   "execution_count": 20,
   "metadata": {
    "colab": {
     "base_uri": "https://localhost:8080/",
     "height": 34
    },
    "colab_type": "code",
    "executionInfo": {
     "elapsed": 81251,
     "status": "ok",
     "timestamp": 1567406448354,
     "user": {
      "displayName": "Powell Menezes",
      "photoUrl": "",
      "userId": "10764350384145038858"
     },
     "user_tz": -330
    },
    "id": "3CSQvVMvnAdD",
    "outputId": "10f6359c-b021-445b-952b-ed20a3fda034"
   },
   "outputs": [
    {
     "name": "stdout",
     "output_type": "stream",
     "text": [
      "MAE:  286.6111613343665\n"
     ]
    }
   ],
   "source": [
    "rf = RandomForestRegressor( max_depth=35,\n",
    "                      max_features='auto', n_estimators=290,\n",
    "                       random_state=None)\n",
    "rf.fit(X_train,y_train)\n",
    "pred = rf.predict(X_valid)\n",
    "print('MAE: ',mean_absolute_error(pred,y_valid))"
   ]
  },
  {
   "cell_type": "code",
   "execution_count": 21,
   "metadata": {
    "colab": {
     "base_uri": "https://localhost:8080/",
     "height": 34
    },
    "colab_type": "code",
    "executionInfo": {
     "elapsed": 144452,
     "status": "ok",
     "timestamp": 1567406511838,
     "user": {
      "displayName": "Powell Menezes",
      "photoUrl": "",
      "userId": "10764350384145038858"
     },
     "user_tz": -330
    },
    "id": "YEiuiSelnAdG",
    "outputId": "bca8e6e7-86ba-468f-adbf-37bd6f1efc85"
   },
   "outputs": [
    {
     "name": "stdout",
     "output_type": "stream",
     "text": [
      "MAE:  286.37999364523847\n"
     ]
    }
   ],
   "source": [
    "rf = RandomForestRegressor( max_depth=35,\n",
    "                      max_features='auto', n_estimators=390,\n",
    "                       random_state=None)\n",
    "rf.fit(X_train,y_train)\n",
    "pred = rf.predict(X_valid)\n",
    "print('MAE: ',mean_absolute_error(pred,y_valid))"
   ]
  },
  {
   "cell_type": "code",
   "execution_count": 22,
   "metadata": {
    "colab": {
     "base_uri": "https://localhost:8080/",
     "height": 34
    },
    "colab_type": "code",
    "executionInfo": {
     "elapsed": 171992,
     "status": "ok",
     "timestamp": 1567406539593,
     "user": {
      "displayName": "Powell Menezes",
      "photoUrl": "",
      "userId": "10764350384145038858"
     },
     "user_tz": -330
    },
    "id": "tiQiraGynAdJ",
    "outputId": "99fe0fb7-25fd-4d69-fd71-5de40eeeb1eb"
   },
   "outputs": [
    {
     "name": "stdout",
     "output_type": "stream",
     "text": [
      "MAE:  286.7525954103571\n"
     ]
    }
   ],
   "source": [
    "rf = RandomForestRegressor( max_depth=35,\n",
    "                      max_features='auto', n_estimators=170,\n",
    "                       random_state=None)\n",
    "rf.fit(X_train,y_train)\n",
    "pred = rf.predict(X_valid)\n",
    "print('MAE: ',mean_absolute_error(pred,y_valid))"
   ]
  },
  {
   "cell_type": "code",
   "execution_count": 23,
   "metadata": {
    "colab": {
     "base_uri": "https://localhost:8080/",
     "height": 34
    },
    "colab_type": "code",
    "executionInfo": {
     "elapsed": 191988,
     "status": "ok",
     "timestamp": 1567406559784,
     "user": {
      "displayName": "Powell Menezes",
      "photoUrl": "",
      "userId": "10764350384145038858"
     },
     "user_tz": -330
    },
    "id": "XkL6LflhnAdM",
    "outputId": "afa1f7f1-6c4e-43cb-eafe-d8d3355bf114"
   },
   "outputs": [
    {
     "name": "stdout",
     "output_type": "stream",
     "text": [
      "MAE:  288.00133003369234\n"
     ]
    }
   ],
   "source": [
    "rf = RandomForestRegressor( max_depth=16,\n",
    "                      max_features='auto', n_estimators=160,\n",
    "                       random_state=None)\n",
    "rf.fit(X_train,y_train)\n",
    "pred = rf.predict(X_valid)\n",
    "print('MAE: ',mean_absolute_error(pred,y_valid))"
   ]
  },
  {
   "cell_type": "code",
   "execution_count": 24,
   "metadata": {
    "colab": {
     "base_uri": "https://localhost:8080/",
     "height": 34
    },
    "colab_type": "code",
    "executionInfo": {
     "elapsed": 222470,
     "status": "ok",
     "timestamp": 1567406590449,
     "user": {
      "displayName": "Powell Menezes",
      "photoUrl": "",
      "userId": "10764350384145038858"
     },
     "user_tz": -330
    },
    "id": "3C55QjYvnAdP",
    "outputId": "619098e0-559e-4141-cab0-df4da8a8c9b9"
   },
   "outputs": [
    {
     "name": "stdout",
     "output_type": "stream",
     "text": [
      "MAE:  287.555846734935\n"
     ]
    }
   ],
   "source": [
    "rf = RandomForestRegressor( max_depth=36,\n",
    "                      max_features='auto', n_estimators=187,\n",
    "                       random_state=None)\n",
    "rf.fit(X_train,y_train)\n",
    "pred = rf.predict(X_valid)\n",
    "print('MAE: ',mean_absolute_error(pred,y_valid))"
   ]
  },
  {
   "cell_type": "code",
   "execution_count": 25,
   "metadata": {
    "colab": {
     "base_uri": "https://localhost:8080/",
     "height": 34
    },
    "colab_type": "code",
    "executionInfo": {
     "elapsed": 250851,
     "status": "ok",
     "timestamp": 1567406619010,
     "user": {
      "displayName": "Powell Menezes",
      "photoUrl": "",
      "userId": "10764350384145038858"
     },
     "user_tz": -330
    },
    "id": "j3iXmuHOnAdS",
    "outputId": "2ed3d85e-fa5f-4b25-eac3-2341ed27c138"
   },
   "outputs": [
    {
     "name": "stdout",
     "output_type": "stream",
     "text": [
      "MAE:  287.11592998637326\n"
     ]
    }
   ],
   "source": [
    "rf = RandomForestRegressor( max_depth=20\n",
    ",\n",
    "                      max_features='auto', n_estimators=190,\n",
    "                       random_state=None)\n",
    "rf.fit(X_train,y_train)\n",
    "pred = rf.predict(X_valid)\n",
    "print('MAE: ',mean_absolute_error(pred,y_valid))"
   ]
  },
  {
   "cell_type": "code",
   "execution_count": 26,
   "metadata": {
    "colab": {
     "base_uri": "https://localhost:8080/",
     "height": 34
    },
    "colab_type": "code",
    "executionInfo": {
     "elapsed": 250643,
     "status": "ok",
     "timestamp": 1567406619011,
     "user": {
      "displayName": "Powell Menezes",
      "photoUrl": "",
      "userId": "10764350384145038858"
     },
     "user_tz": -330
    },
    "id": "o3gD32TxnAdV",
    "outputId": "302bc9f3-2bc3-47d8-fe41-634aeb7ebf80"
   },
   "outputs": [
    {
     "data": {
      "text/plain": [
       "0.9336472175245891"
      ]
     },
     "execution_count": 26,
     "metadata": {
      "tags": []
     },
     "output_type": "execute_result"
    }
   ],
   "source": [
    "from sklearn.metrics import r2_score\n",
    "r2_score(pred,y_valid) \n"
   ]
  },
  {
   "cell_type": "code",
   "execution_count": 27,
   "metadata": {
    "colab": {
     "base_uri": "https://localhost:8080/",
     "height": 347
    },
    "colab_type": "code",
    "executionInfo": {
     "elapsed": 250049,
     "status": "ok",
     "timestamp": 1567406619015,
     "user": {
      "displayName": "Powell Menezes",
      "photoUrl": "",
      "userId": "10764350384145038858"
     },
     "user_tz": -330
    },
    "id": "8ZHy4QNjnIeG",
    "outputId": "c779862a-7b5f-4be0-95b0-a178656e7dc4"
   },
   "outputs": [
    {
     "data": {
      "text/html": [
       "<div>\n",
       "<style scoped>\n",
       "    .dataframe tbody tr th:only-of-type {\n",
       "        vertical-align: middle;\n",
       "    }\n",
       "\n",
       "    .dataframe tbody tr th {\n",
       "        vertical-align: top;\n",
       "    }\n",
       "\n",
       "    .dataframe thead th {\n",
       "        text-align: right;\n",
       "    }\n",
       "</style>\n",
       "<table border=\"1\" class=\"dataframe\">\n",
       "  <thead>\n",
       "    <tr style=\"text-align: right;\">\n",
       "      <th></th>\n",
       "      <th>Importance</th>\n",
       "    </tr>\n",
       "  </thead>\n",
       "  <tbody>\n",
       "    <tr>\n",
       "      <th>hour</th>\n",
       "      <td>0.826</td>\n",
       "    </tr>\n",
       "    <tr>\n",
       "      <th>dayofweek_sunday</th>\n",
       "      <td>0.059</td>\n",
       "    </tr>\n",
       "    <tr>\n",
       "      <th>dayofweek_saturday</th>\n",
       "      <td>0.044</td>\n",
       "    </tr>\n",
       "    <tr>\n",
       "      <th>temperature</th>\n",
       "      <td>0.019</td>\n",
       "    </tr>\n",
       "    <tr>\n",
       "      <th>air_pollution_index</th>\n",
       "      <td>0.008</td>\n",
       "    </tr>\n",
       "    <tr>\n",
       "      <th>wind_direction</th>\n",
       "      <td>0.008</td>\n",
       "    </tr>\n",
       "    <tr>\n",
       "      <th>humidity</th>\n",
       "      <td>0.008</td>\n",
       "    </tr>\n",
       "    <tr>\n",
       "      <th>wind_speed</th>\n",
       "      <td>0.004</td>\n",
       "    </tr>\n",
       "    <tr>\n",
       "      <th>visibility_in_miles</th>\n",
       "      <td>0.004</td>\n",
       "    </tr>\n",
       "    <tr>\n",
       "      <th>rain_p_h</th>\n",
       "      <td>0.004</td>\n",
       "    </tr>\n",
       "  </tbody>\n",
       "</table>\n",
       "</div>"
      ],
      "text/plain": [
       "                     Importance\n",
       "hour                      0.826\n",
       "dayofweek_sunday          0.059\n",
       "dayofweek_saturday        0.044\n",
       "temperature               0.019\n",
       "air_pollution_index       0.008\n",
       "wind_direction            0.008\n",
       "humidity                  0.008\n",
       "wind_speed                0.004\n",
       "visibility_in_miles       0.004\n",
       "rain_p_h                  0.004"
      ]
     },
     "execution_count": 27,
     "metadata": {
      "tags": []
     },
     "output_type": "execute_result"
    }
   ],
   "source": [
    "tabel = pd.DataFrame({'Importance':np.round(rf.feature_importances_,decimals=3)},index=X_train.columns).sort_values(by='Importance',ascending=False).head(10)\n",
    "tabel"
   ]
  }
 ],
 "metadata": {
  "colab": {
   "collapsed_sections": [],
   "name": "IndianMetro traffic volume.ipynb",
   "provenance": [
    {
     "file_id": "1UH9W5AM_3WrtXxzMKChtBGWVSOskIdpw",
     "timestamp": 1567405472125
    }
   ],
   "version": "0.3.2"
  },
  "kernelspec": {
   "display_name": "Python 3",
   "language": "python",
   "name": "python3"
  },
  "language_info": {
   "codemirror_mode": {
    "name": "ipython",
    "version": 3
   },
   "file_extension": ".py",
   "mimetype": "text/x-python",
   "name": "python",
   "nbconvert_exporter": "python",
   "pygments_lexer": "ipython3",
   "version": "3.7.1"
  }
 },
 "nbformat": 4,
 "nbformat_minor": 1
}
